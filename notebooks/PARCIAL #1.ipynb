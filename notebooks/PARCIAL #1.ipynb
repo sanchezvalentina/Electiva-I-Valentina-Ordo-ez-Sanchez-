{
 "cells": [
  {
   "cell_type": "code",
   "execution_count": 3,
   "id": "9915d1b5",
   "metadata": {},
   "outputs": [],
   "source": [
    "import pandas as pd \n",
    "import numpy as np "
   ]
  },
  {
   "cell_type": "code",
   "execution_count": 4,
   "id": "ff8c1021",
   "metadata": {},
   "outputs": [
    {
     "data": {
      "text/html": [
       "<div>\n",
       "<style scoped>\n",
       "    .dataframe tbody tr th:only-of-type {\n",
       "        vertical-align: middle;\n",
       "    }\n",
       "\n",
       "    .dataframe tbody tr th {\n",
       "        vertical-align: top;\n",
       "    }\n",
       "\n",
       "    .dataframe thead th {\n",
       "        text-align: right;\n",
       "    }\n",
       "</style>\n",
       "<table border=\"1\" class=\"dataframe\">\n",
       "  <thead>\n",
       "    <tr style=\"text-align: right;\">\n",
       "      <th></th>\n",
       "      <th>DIRECTORIO</th>\n",
       "      <th>SECUENCIA_P</th>\n",
       "      <th>SECUENCIA_ENCUESTA</th>\n",
       "      <th>COD_DEPTO</th>\n",
       "      <th>AREA</th>\n",
       "      <th>CLASE_TE</th>\n",
       "      <th>P35</th>\n",
       "      <th>P241</th>\n",
       "      <th>MES_REF</th>\n",
       "      <th>P3031</th>\n",
       "      <th>P3032_1</th>\n",
       "      <th>P3032_2</th>\n",
       "      <th>P3032_3</th>\n",
       "      <th>P3033</th>\n",
       "      <th>P3034</th>\n",
       "      <th>P3035</th>\n",
       "      <th>P3000</th>\n",
       "      <th>GRUPOS4</th>\n",
       "      <th>GRUPOS12</th>\n",
       "      <th>F_EXP</th>\n",
       "    </tr>\n",
       "  </thead>\n",
       "  <tbody>\n",
       "    <tr>\n",
       "      <th>0</th>\n",
       "      <td>7627444</td>\n",
       "      <td>1</td>\n",
       "      <td>1</td>\n",
       "      <td>44</td>\n",
       "      <td>NaN</td>\n",
       "      <td>2</td>\n",
       "      <td>2</td>\n",
       "      <td>33</td>\n",
       "      <td>ENERO</td>\n",
       "      <td>2</td>\n",
       "      <td>NaN</td>\n",
       "      <td>NaN</td>\n",
       "      <td>NaN</td>\n",
       "      <td>2</td>\n",
       "      <td>240</td>\n",
       "      <td>2</td>\n",
       "      <td>2</td>\n",
       "      <td>2</td>\n",
       "      <td>3</td>\n",
       "      <td>60.050515</td>\n",
       "    </tr>\n",
       "    <tr>\n",
       "      <th>1</th>\n",
       "      <td>7627446</td>\n",
       "      <td>1</td>\n",
       "      <td>1</td>\n",
       "      <td>44</td>\n",
       "      <td>NaN</td>\n",
       "      <td>2</td>\n",
       "      <td>1</td>\n",
       "      <td>31</td>\n",
       "      <td>ENERO</td>\n",
       "      <td>2</td>\n",
       "      <td>NaN</td>\n",
       "      <td>NaN</td>\n",
       "      <td>NaN</td>\n",
       "      <td>2</td>\n",
       "      <td>166</td>\n",
       "      <td>2</td>\n",
       "      <td>2</td>\n",
       "      <td>1</td>\n",
       "      <td>1</td>\n",
       "      <td>86.341075</td>\n",
       "    </tr>\n",
       "    <tr>\n",
       "      <th>2</th>\n",
       "      <td>7627449</td>\n",
       "      <td>1</td>\n",
       "      <td>1</td>\n",
       "      <td>68</td>\n",
       "      <td>NaN</td>\n",
       "      <td>1</td>\n",
       "      <td>2</td>\n",
       "      <td>42</td>\n",
       "      <td>ENERO</td>\n",
       "      <td>2</td>\n",
       "      <td>NaN</td>\n",
       "      <td>NaN</td>\n",
       "      <td>NaN</td>\n",
       "      <td>2</td>\n",
       "      <td>60</td>\n",
       "      <td>2</td>\n",
       "      <td>2</td>\n",
       "      <td>3</td>\n",
       "      <td>5</td>\n",
       "      <td>139.884518</td>\n",
       "    </tr>\n",
       "    <tr>\n",
       "      <th>3</th>\n",
       "      <td>7627453</td>\n",
       "      <td>1</td>\n",
       "      <td>2</td>\n",
       "      <td>68</td>\n",
       "      <td>NaN</td>\n",
       "      <td>1</td>\n",
       "      <td>2</td>\n",
       "      <td>41</td>\n",
       "      <td>ENERO</td>\n",
       "      <td>2</td>\n",
       "      <td>NaN</td>\n",
       "      <td>NaN</td>\n",
       "      <td>NaN</td>\n",
       "      <td>2</td>\n",
       "      <td>60</td>\n",
       "      <td>2</td>\n",
       "      <td>2</td>\n",
       "      <td>4</td>\n",
       "      <td>7</td>\n",
       "      <td>168.635440</td>\n",
       "    </tr>\n",
       "    <tr>\n",
       "      <th>4</th>\n",
       "      <td>7627456</td>\n",
       "      <td>1</td>\n",
       "      <td>3</td>\n",
       "      <td>68</td>\n",
       "      <td>NaN</td>\n",
       "      <td>1</td>\n",
       "      <td>1</td>\n",
       "      <td>18</td>\n",
       "      <td>ENERO</td>\n",
       "      <td>2</td>\n",
       "      <td>NaN</td>\n",
       "      <td>NaN</td>\n",
       "      <td>NaN</td>\n",
       "      <td>2</td>\n",
       "      <td>9</td>\n",
       "      <td>2</td>\n",
       "      <td>2</td>\n",
       "      <td>4</td>\n",
       "      <td>6</td>\n",
       "      <td>64.659273</td>\n",
       "    </tr>\n",
       "  </tbody>\n",
       "</table>\n",
       "</div>"
      ],
      "text/plain": [
       "   DIRECTORIO  SECUENCIA_P  SECUENCIA_ENCUESTA  COD_DEPTO  AREA  CLASE_TE  \\\n",
       "0     7627444            1                   1         44   NaN         2   \n",
       "1     7627446            1                   1         44   NaN         2   \n",
       "2     7627449            1                   1         68   NaN         1   \n",
       "3     7627453            1                   2         68   NaN         1   \n",
       "4     7627456            1                   3         68   NaN         1   \n",
       "\n",
       "   P35  P241 MES_REF  P3031  P3032_1  P3032_2  P3032_3  P3033  P3034  P3035  \\\n",
       "0    2    33   ENERO      2      NaN      NaN      NaN      2    240      2   \n",
       "1    1    31   ENERO      2      NaN      NaN      NaN      2    166      2   \n",
       "2    2    42   ENERO      2      NaN      NaN      NaN      2     60      2   \n",
       "3    2    41   ENERO      2      NaN      NaN      NaN      2     60      2   \n",
       "4    1    18   ENERO      2      NaN      NaN      NaN      2      9      2   \n",
       "\n",
       "   P3000  GRUPOS4  GRUPOS12       F_EXP  \n",
       "0      2        2         3   60.050515  \n",
       "1      2        1         1   86.341075  \n",
       "2      2        3         5  139.884518  \n",
       "3      2        4         7  168.635440  \n",
       "4      2        4         6   64.659273  "
      ]
     },
     "execution_count": 4,
     "metadata": {},
     "output_type": "execute_result"
    }
   ],
   "source": [
    "url_emicron= 'https://raw.githubusercontent.com/niconomist98/DataAnalyticsUQ/refs/heads/main/Datos/EMICRON/emicron_identificacion.csv'\n",
    "import pandas as pd \n",
    "df_emicron = pd.read_csv(url_emicron, encoding= 'latin-1', sep=',', low_memory=False)\n",
    "df_emicron. head()\n"
   ]
  },
  {
   "cell_type": "code",
   "execution_count": 5,
   "id": "880b6671",
   "metadata": {},
   "outputs": [
    {
     "data": {
      "text/plain": [
       "Index(['DIRECTORIO', 'SECUENCIA_P', 'SECUENCIA_ENCUESTA', 'COD_DEPTO', 'AREA',\n",
       "       'CLASE_TE', 'P35', 'P241', 'MES_REF', 'P3031', 'P3032_1', 'P3032_2',\n",
       "       'P3032_3', 'P3033', 'P3034', 'P3035', 'P3000', 'GRUPOS4', 'GRUPOS12',\n",
       "       'F_EXP'],\n",
       "      dtype='object')"
      ]
     },
     "execution_count": 5,
     "metadata": {},
     "output_type": "execute_result"
    }
   ],
   "source": [
    "df_emicron.columns\n",
    "\n"
   ]
  },
  {
   "cell_type": "code",
   "execution_count": 6,
   "id": "87d8aa81",
   "metadata": {},
   "outputs": [
    {
     "name": "stdout",
     "output_type": "stream",
     "text": [
      "Micronegocios en todo colombia: 5297251\n"
     ]
    }
   ],
   "source": [
    "#microempresas que hay en colombia \n",
    "total = df_emicron[\"F_EXP\"].sum()\n",
    "print(\"Micronegocios en todo colombia:\", int(total))"
   ]
  },
  {
   "cell_type": "code",
   "execution_count": 9,
   "id": "34f62695",
   "metadata": {},
   "outputs": [
    {
     "name": "stdout",
     "output_type": "stream",
     "text": [
      "Micronegocios en Quindío con propietarios hombres de 18 a 30 años: 1929\n"
     ]
    }
   ],
   "source": [
    "micronegocioF = df_emicron[(df_emicron[\"COD_DEPTO\"] == 63) & (df_emicron[\"P35\"] == 1) & (df_emicron[\"P241\"].between(18, 30))]\n",
    "totalquindiohombres_1830 = micronegocioF[\"F_EXP\"].sum()\n",
    "print(f\"Micronegocios en Quindío con propietarios hombres de 18 a 30 años:\", int(totalquindiohombres_1830))"
   ]
  },
  {
   "cell_type": "code",
   "execution_count": null,
   "id": "17f43f74",
   "metadata": {},
   "outputs": [],
   "source": [
    "#RESPUESTA DE LA 1: hay 1929 microempresas en el quindio que son de propietarios hombres entre los 18 y 30 años "
   ]
  },
  {
   "cell_type": "code",
   "execution_count": 11,
   "id": "1b015107",
   "metadata": {},
   "outputs": [
    {
     "name": "stdout",
     "output_type": "stream",
     "text": [
      "Microempresas de la industria manufacturera en Risaralda que son de mujeres entre los 20 y 30: 471\n"
     ]
    }
   ],
   "source": [
    "micronegocio_manu_FR = df_emicron[(df_emicron[\"COD_DEPTO\"] == 66) & (df_emicron[\"P35\"] == 2) & (df_emicron[\"P241\"].between(20, 30)) & (df_emicron['GRUPOS4'] == 2)]\n",
    "total_microMFR = micronegocio_manu_FR[\"F_EXP\"].sum()\n",
    "print(f\"Microempresas de la industria manufacturera en Risaralda que son de mujeres entre los 20 y 30:\", int(total_microMFR))"
   ]
  },
  {
   "cell_type": "code",
   "execution_count": 12,
   "id": "67ba97c0",
   "metadata": {},
   "outputs": [],
   "source": [
    "#RESPUESTA DE LA 2: hay 471 microempresas manufactureros en el departamento de risaralda, en el cual sus propietarias sin entre los 20 y 30 años. \n"
   ]
  },
  {
   "cell_type": "code",
   "execution_count": 13,
   "id": "55194844",
   "metadata": {},
   "outputs": [
    {
     "name": "stdout",
     "output_type": "stream",
     "text": [
      "Los microempresas de Pereira con las caracteristicas son: 3827\n",
      "Los microempresas de Armenia con las caracteristicas son: 2557\n",
      "Los microempresas de Manizales con las caracteristicas son: 2636\n",
      "\n",
      "La ciudad capital del eje cafetero que tiene mas microempresas en el comercio con dueñas mayores a 40 años es PEREIRA\n"
     ]
    }
   ],
   "source": [
    "#PEREIRA\n",
    "micronegocio_com_FP40 = df_emicron[(df_emicron[\"AREA\"] == 66) & (df_emicron[\"P35\"] == 2) & (df_emicron[\"P241\"] > 40) & (df_emicron['GRUPOS4'] == 3)]\n",
    "total_microCOFP40 = micronegocio_com_FP40['F_EXP'].sum()\n",
    "print(f'Los microempresas de Pereira con las caracteristicas son:', int(total_microCOFP40))\n",
    "#ARMENIA\n",
    "micronegocio_com_FA40 = df_emicron[(df_emicron[\"AREA\"] == 63) & (df_emicron[\"P35\"] == 2) & (df_emicron[\"P241\"] > 40) & (df_emicron['GRUPOS4'] == 3)]\n",
    "total_microCOFA40 = micronegocio_com_FA40['F_EXP'].sum()\n",
    "print(f'Los microempresas de Armenia con las caracteristicas son:', int(total_microCOFA40))\n",
    "#MANIZALES\n",
    "micronegocio_com_FM40 = df_emicron[(df_emicron[\"AREA\"] == 17) & (df_emicron[\"P35\"] == 2) & (df_emicron[\"P241\"] > 40) & (df_emicron['GRUPOS4'] == 3)]\n",
    "total_microCOFM40 = micronegocio_com_FM40['F_EXP'].sum()\n",
    "print(f'Los microempresas de Manizales con las caracteristicas son:', int(total_microCOFM40))\n",
    "print()\n",
    "print(f'La ciudad capital del eje cafetero que tiene mas microempresas en el comercio con dueñas mayores a 40 años es PEREIRA')"
   ]
  },
  {
   "cell_type": "code",
   "execution_count": 14,
   "id": "61a86b27",
   "metadata": {},
   "outputs": [],
   "source": [
    "#RESPUESTA DE LA 3: entre las ciudades de armenia, manizales y pereira, pereira es la ciudad con mas  microempresas del sector comercio cuyas propietarias son mujeres mayores de 40 años "
   ]
  },
  {
   "cell_type": "code",
   "execution_count": 15,
   "id": "1d633b22",
   "metadata": {},
   "outputs": [
    {
     "name": "stdout",
     "output_type": "stream",
     "text": [
      "En la ciudad de Armenia hay un total de 11603 microempresas de propietarios hombres que no tiene nombre comercial\n"
     ]
    }
   ],
   "source": [
    "micronegocioNN = df_emicron[(df_emicron[\"AREA\"] == 63) & (df_emicron[\"P35\"] == 1) & (df_emicron[\"P3035\"] == 2)]\n",
    "total_microNN = micronegocioNN['F_EXP'].sum()\n",
    "print(f'En la ciudad de Armenia hay un total de', int(total_microNN), f'microempresas de propietarios hombres que no tiene nombre comercial')"
   ]
  },
  {
   "cell_type": "code",
   "execution_count": 16,
   "id": "b3572a39",
   "metadata": {},
   "outputs": [],
   "source": [
    "#RESPUESTA DE LA 4: en la ciudad de armenia hay 11603 empresas cuyo propietarios son hombres y no tiene nombre comercial"
   ]
  }
 ],
 "metadata": {
  "kernelspec": {
   "display_name": "Python 3",
   "language": "python",
   "name": "python3"
  },
  "language_info": {
   "codemirror_mode": {
    "name": "ipython",
    "version": 3
   },
   "file_extension": ".py",
   "mimetype": "text/x-python",
   "name": "python",
   "nbconvert_exporter": "python",
   "pygments_lexer": "ipython3",
   "version": "3.12.1"
  }
 },
 "nbformat": 4,
 "nbformat_minor": 5
}
