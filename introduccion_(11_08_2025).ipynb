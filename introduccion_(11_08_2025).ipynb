{
  "nbformat": 4,
  "nbformat_minor": 0,
  "metadata": {
    "colab": {
      "provenance": [],
      "include_colab_link": true
    },
    "kernelspec": {
      "name": "python3",
      "display_name": "Python 3"
    },
    "language_info": {
      "name": "python"
    }
  },
  "cells": [
    {
      "cell_type": "markdown",
      "metadata": {
        "id": "view-in-github",
        "colab_type": "text"
      },
      "source": [
        "<a href=\"https://colab.research.google.com/github/sanchezvalentina/Electiva-I-Valentina-Ordo-ez-Sanchez-/blob/main/introduccion_(11_08_2025).ipynb\" target=\"_parent\"><img src=\"https://colab.research.google.com/assets/colab-badge.svg\" alt=\"Open In Colab\"/></a>"
      ]
    },
    {
      "cell_type": "code",
      "execution_count": null,
      "metadata": {
        "id": "cp4DnIEX9Ld-"
      },
      "outputs": [],
      "source": [
        "nombre=valentinaOrdoñez\n",
        "edad=21\n",
        "print(\"nombre:valentinaOrdoñez\")\n",
        "print(\"21\")\n",
        "\n"
      ]
    },
    {
      "cell_type": "code",
      "source": [
        "#sincronizando cabios nuevos"
      ],
      "metadata": {
        "id": "1__-g8nBBpt4"
      },
      "execution_count": 1,
      "outputs": []
    }
  ]
}