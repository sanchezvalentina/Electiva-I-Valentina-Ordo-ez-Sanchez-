{
  "cells": [
    {
      "cell_type": "markdown",
      "metadata": {
        "colab_type": "text",
        "id": "view-in-github"
      },
      "source": [
        "<a href=\"https://colab.research.google.com/github/sanchezvalentina/Electiva-I-Valentina-Ordo-ez-Sanchez-/blob/main/introduccion_(11_08_2025).ipynb\" target=\"_parent\"><img src=\"https://colab.research.google.com/assets/colab-badge.svg\" alt=\"Open In Colab\"/></a>"
      ]
    },
    {
      "cell_type": "code",
      "execution_count": null,
      "metadata": {
        "id": "cp4DnIEX9Ld-"
      },
      "outputs": [],
      "source": [
        "nombre=valentinaOrdoñez\n",
        "edad=21\n",
        "print(\"nombre:valentinaOrdoñez\")\n",
        "print(\"21\")\n",
        "\n"
      ]
    },
    {
      "cell_type": "code",
      "execution_count": null,
      "metadata": {
        "id": "1__-g8nBBpt4"
      },
      "outputs": [],
      "source": [
        "#sincronizando cabios nuevos\n",
        "#si"
      ]
    },
    {
      "cell_type": "code",
      "execution_count": null,
      "metadata": {},
      "outputs": [],
      "source": []
    }
  ],
  "metadata": {
    "colab": {
      "include_colab_link": true,
      "provenance": []
    },
    "kernelspec": {
      "display_name": "Python 3",
      "name": "python3"
    },
    "language_info": {
      "name": "python"
    }
  },
  "nbformat": 4,
  "nbformat_minor": 0
}
